{
 "cells": [
  {
   "cell_type": "code",
   "execution_count": 1,
   "metadata": {},
   "outputs": [],
   "source": [
    "# Importing dependencies\n",
    "import pandas as pd\n",
    "import numpy as np\n",
    "import os\n",
    "import pickle\n",
    "import random"
   ]
  },
  {
   "cell_type": "code",
   "execution_count": 4,
   "metadata": {},
   "outputs": [],
   "source": [
    "# Define the path to the CSV file\n",
    "csv_file = 'hobby_dataset_original.csv'\n",
    "rated_file = 'hobby_dataset_rated.csv'\n",
    "\n",
    "# Run if rated file does not exist already\n",
    "if (not rated_file):\n",
    "    # Check if original hobby dataset is available\n",
    "    if os.path.isfile(csv_file):\n",
    "        # Load the dataset into a pandas dataframe\n",
    "        df = pd.read_csv(csv_file)\n",
    "\n",
    "        # Check if the base_rating column already exists in the dataframe\n",
    "        if 'base_rating' not in df.columns:\n",
    "            # Assign a base rating of 15 to each hobby in the dataframe\n",
    "            df['base_rating'] = 15\n",
    "\n",
    "            # Save the rated dataset to a CSV file\n",
    "            df.to_csv('hobby_dataset_rated.csv', index=False)"
   ]
  }
 ],
 "metadata": {
  "kernelspec": {
   "display_name": "Python 3",
   "language": "python",
   "name": "python3"
  },
  "language_info": {
   "codemirror_mode": {
    "name": "ipython",
    "version": 3
   },
   "file_extension": ".py",
   "mimetype": "text/x-python",
   "name": "python",
   "nbconvert_exporter": "python",
   "pygments_lexer": "ipython3",
   "version": "3.10.10"
  },
  "orig_nbformat": 4
 },
 "nbformat": 4,
 "nbformat_minor": 2
}
