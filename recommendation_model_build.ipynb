{
 "cells": [
  {
   "cell_type": "code",
   "execution_count": 1,
   "metadata": {},
   "outputs": [],
   "source": [
    "# Importing dependencies\n",
    "import pandas as pd\n",
    "import numpy as np\n",
    "import os\n",
    "import pickle\n",
    "import random"
   ]
  },
  {
   "cell_type": "code",
   "execution_count": 4,
   "metadata": {},
   "outputs": [],
   "source": [
    "# Define the path to the CSV file\n",
    "csv_file = 'hobby_dataset_rated.csv'\n",
    "\n",
    "# Check if the CSV file exists\n",
    "if os.path.isfile(csv_file):\n",
    "    # Load the dataset into a pandas dataframe\n",
    "    df = pd.read_csv(csv_file)\n",
    "\n",
    "    # Check if the base_rating column already exists in the dataframe\n",
    "    if 'base_rating' not in df.columns:\n",
    "        # Assign a base rating of 15 to each hobby in the dataframe\n",
    "        df['base_rating'] = 15\n",
    "\n",
    "        # Save the updated dataset to a CSV file\n",
    "        df.to_csv('hobby_dataset_v2.csv', index=False)\n",
    "else:\n",
    "    # Do nothing if the CSV file doesn't exist\n",
    "    pass"
   ]
  },
  {
   "cell_type": "code",
   "execution_count": 5,
   "metadata": {},
   "outputs": [
    {
     "data": {
      "text/html": [
       "<div>\n",
       "<style scoped>\n",
       "    .dataframe tbody tr th:only-of-type {\n",
       "        vertical-align: middle;\n",
       "    }\n",
       "\n",
       "    .dataframe tbody tr th {\n",
       "        vertical-align: top;\n",
       "    }\n",
       "\n",
       "    .dataframe thead th {\n",
       "        text-align: right;\n",
       "    }\n",
       "</style>\n",
       "<table border=\"1\" class=\"dataframe\">\n",
       "  <thead>\n",
       "    <tr style=\"text-align: right;\">\n",
       "      <th></th>\n",
       "      <th>Hobby</th>\n",
       "      <th>Type of Hobby</th>\n",
       "      <th>base_rating</th>\n",
       "    </tr>\n",
       "  </thead>\n",
       "  <tbody>\n",
       "    <tr>\n",
       "      <th>0</th>\n",
       "      <td>Drawing</td>\n",
       "      <td>Creative</td>\n",
       "      <td>15</td>\n",
       "    </tr>\n",
       "    <tr>\n",
       "      <th>1</th>\n",
       "      <td>Writing fiction</td>\n",
       "      <td>Creative</td>\n",
       "      <td>15</td>\n",
       "    </tr>\n",
       "  </tbody>\n",
       "</table>\n",
       "</div>"
      ],
      "text/plain": [
       "             Hobby Type of Hobby  base_rating\n",
       "0          Drawing      Creative           15\n",
       "1  Writing fiction      Creative           15"
      ]
     },
     "execution_count": 5,
     "metadata": {},
     "output_type": "execute_result"
    }
   ],
   "source": [
    "df.head(2)"
   ]
  },
  {
   "cell_type": "code",
   "execution_count": 6,
   "metadata": {},
   "outputs": [],
   "source": [
    "# Function to get all hobbies of a given type (Private Method)\n",
    "def get_hobbies_by_type(hobby_type):\n",
    "    return df[df['Type of Hobby'] == hobby_type]['Hobby'].values"
   ]
  },
  {
   "cell_type": "code",
   "execution_count": null,
   "metadata": {},
   "outputs": [],
   "source": [
    "# Function to randomly suggest a hobby of a given type\n",
    "def suggest_hobby(hobby_type):\n",
    "        hobbies = get_hobbies_by_type(hobby_type)\n",
    "        return np.random.choice(hobbies)\n",
    "   "
   ]
  },
  {
   "cell_type": "code",
   "execution_count": null,
   "metadata": {},
   "outputs": [],
   "source": [
    "# Function to update the base rating of a hobby based on user feedback\n",
    "def update_rating(hobby, liked):\n",
    "    if liked:\n",
    "        df.loc[df['Hobby'] == hobby, 'base_rating'] += 1\n",
    "        print(df.loc[df['Hobby'] == hobby]['base_rating'])\n",
    "    else:\n",
    "        df.loc[df['Hobby'] == hobby, 'base_rating'] -= 1\n",
    "        print(df.loc[df['Hobby'] == hobby]['base_rating'])\n",
    "        if df.loc[df['Hobby'] == hobby, 'base_rating'].values[0] < 0:\n",
    "            df.drop(df[df['Hobby'] == hobby].index, inplace=True)\n",
    "\n",
    "    # Save the updated dataset to a CSV file\n",
    "    df.to_csv('hobby_dataset_v2.csv', index=False)"
   ]
  },
  {
   "cell_type": "code",
   "execution_count": null,
   "metadata": {},
   "outputs": [],
   "source": []
  }
 ],
 "metadata": {
  "kernelspec": {
   "display_name": "Python 3",
   "language": "python",
   "name": "python3"
  },
  "language_info": {
   "codemirror_mode": {
    "name": "ipython",
    "version": 3
   },
   "file_extension": ".py",
   "mimetype": "text/x-python",
   "name": "python",
   "nbconvert_exporter": "python",
   "pygments_lexer": "ipython3",
   "version": "3.10.10"
  },
  "orig_nbformat": 4
 },
 "nbformat": 4,
 "nbformat_minor": 2
}
